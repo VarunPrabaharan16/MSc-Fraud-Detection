{
  "nbformat": 4,
  "nbformat_minor": 0,
  "metadata": {
    "colab": {
      "provenance": [],
      "authorship_tag": "ABX9TyP8aNRWxJ/0RoiVtOpnnqhs",
      "include_colab_link": true
    },
    "kernelspec": {
      "name": "python3",
      "display_name": "Python 3"
    },
    "language_info": {
      "name": "python"
    }
  },
  "cells": [
    {
      "cell_type": "markdown",
      "metadata": {
        "id": "view-in-github",
        "colab_type": "text"
      },
      "source": [
        "<a href=\"https://colab.research.google.com/github/VarunPrabaharan16/MSc-Fraud-Detection/blob/main/notebooks/eda.ipynb\" target=\"_parent\"><img src=\"https://colab.research.google.com/assets/colab-badge.svg\" alt=\"Open In Colab\"/></a>"
      ]
    },
    {
      "cell_type": "code",
      "execution_count": 1,
      "metadata": {
        "colab": {
          "base_uri": "https://localhost:8080/"
        },
        "id": "OHa_yFHZRq8J",
        "outputId": "76623170-8a4a-4bf8-dd3e-5f23976d5214"
      },
      "outputs": [
        {
          "output_type": "stream",
          "name": "stdout",
          "text": [
            "Mounted at /content/drive\n"
          ]
        }
      ],
      "source": [
        "from google.colab import drive\n",
        "drive.mount('/content/drive')"
      ]
    },
    {
      "cell_type": "code",
      "source": [
        "import os\n",
        "data_path = '/content/drive/My Drive/MSc Fraud Detection/data/ieee-fraud-detection'\n",
        "print(os.listdir(data_path))"
      ],
      "metadata": {
        "colab": {
          "base_uri": "https://localhost:8080/"
        },
        "id": "0nT2bOzOR7ON",
        "outputId": "1f71aa89-a544-405e-d03a-525382b1fcc9"
      },
      "execution_count": 8,
      "outputs": [
        {
          "output_type": "stream",
          "name": "stdout",
          "text": [
            "['test_identity.csv', 'sample_submission.csv', 'test_transaction.csv', 'train_identity.csv', 'train_transaction.csv']\n"
          ]
        }
      ]
    },
    {
      "cell_type": "code",
      "source": [
        "  import pandas as pd\n",
        "  transactions = pd.read_csv(f'{data_path}/train_transaction.csv', nrows=1000)\n",
        "  print(transactions.head())\n",
        "  print(transactions['isFraud'].value_counts())"
      ],
      "metadata": {
        "colab": {
          "base_uri": "https://localhost:8080/"
        },
        "id": "iPYtYQdFUj4e",
        "outputId": "6eef6728-bacf-4f11-ef79-468e1fdd6c20"
      },
      "execution_count": 9,
      "outputs": [
        {
          "output_type": "stream",
          "name": "stdout",
          "text": [
            "   TransactionID  isFraud  TransactionDT  TransactionAmt ProductCD  card1  \\\n",
            "0        2987000        0          86400            68.5         W  13926   \n",
            "1        2987001        0          86401            29.0         W   2755   \n",
            "2        2987002        0          86469            59.0         W   4663   \n",
            "3        2987003        0          86499            50.0         W  18132   \n",
            "4        2987004        0          86506            50.0         H   4497   \n",
            "\n",
            "   card2  card3       card4  card5  ... V330  V331  V332  V333  V334 V335  \\\n",
            "0    NaN  150.0    discover  142.0  ...  NaN   NaN   NaN   NaN   NaN  NaN   \n",
            "1  404.0  150.0  mastercard  102.0  ...  NaN   NaN   NaN   NaN   NaN  NaN   \n",
            "2  490.0  150.0        visa  166.0  ...  NaN   NaN   NaN   NaN   NaN  NaN   \n",
            "3  567.0  150.0  mastercard  117.0  ...  NaN   NaN   NaN   NaN   NaN  NaN   \n",
            "4  514.0  150.0  mastercard  102.0  ...  0.0   0.0   0.0   0.0   0.0  0.0   \n",
            "\n",
            "  V336  V337  V338  V339  \n",
            "0  NaN   NaN   NaN   NaN  \n",
            "1  NaN   NaN   NaN   NaN  \n",
            "2  NaN   NaN   NaN   NaN  \n",
            "3  NaN   NaN   NaN   NaN  \n",
            "4  0.0   0.0   0.0   0.0  \n",
            "\n",
            "[5 rows x 394 columns]\n",
            "isFraud\n",
            "0    985\n",
            "1     15\n",
            "Name: count, dtype: int64\n"
          ]
        }
      ]
    }
  ]
}