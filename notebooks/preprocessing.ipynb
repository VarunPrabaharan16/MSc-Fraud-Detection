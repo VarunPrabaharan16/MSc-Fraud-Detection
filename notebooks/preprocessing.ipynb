{
  "nbformat": 4,
  "nbformat_minor": 0,
  "metadata": {
    "colab": {
      "provenance": [],
      "gpuType": "T4",
      "authorship_tag": "ABX9TyOjBEZ4ffdPqjDZhhW53H8I",
      "include_colab_link": true
    },
    "kernelspec": {
      "name": "python3",
      "display_name": "Python 3"
    },
    "language_info": {
      "name": "python"
    },
    "accelerator": "GPU"
  },
  "cells": [
    {
      "cell_type": "markdown",
      "metadata": {
        "id": "view-in-github",
        "colab_type": "text"
      },
      "source": [
        "<a href=\"https://colab.research.google.com/github/VarunPrabaharan16/MSc-Fraud-Detection/blob/main/notebooks/preprocessing.ipynb\" target=\"_parent\"><img src=\"https://colab.research.google.com/assets/colab-badge.svg\" alt=\"Open In Colab\"/></a>"
      ]
    },
    {
      "cell_type": "markdown",
      "source": [
        "# Data Preprocessing and Graph Finalization\n",
        "**Dataset**: IEEE-CIS Fraud Detection  \n",
        "**Objective**: Clean the dataset, handle missing values, encode features, and create a PyTorch Geometric graph for GNN input.  \n",
        "**Stored in**: /MyDrive/msc-fraud-detection/data/ieee-fraud-detection"
      ],
      "metadata": {
        "id": "aXYJ7Ifvp2jf"
      }
    },
    {
      "cell_type": "code",
      "execution_count": 1,
      "metadata": {
        "colab": {
          "base_uri": "https://localhost:8080/"
        },
        "id": "WHRKE57bpO4b",
        "outputId": "28bee920-4e78-4ab4-d78d-d1d464c604d6"
      },
      "outputs": [
        {
          "output_type": "stream",
          "name": "stdout",
          "text": [
            "Mounted at /content/drive\n"
          ]
        }
      ],
      "source": [
        "from google.colab import drive\n",
        "drive.mount('/content/drive')"
      ]
    },
    {
      "cell_type": "code",
      "source": [
        "import pandas as pd\n",
        "import os\n",
        "data_path = '/content/drive/My Drive/MSc Fraud Detection/data/ieee-fraud-detection'\n",
        "transactions = pd.read_csv(f'{data_path}/train_transaction.csv')\n",
        "identity = pd.read_csv(f'{data_path}/train_identity.csv') if 'train_identity.csv' in os.listdir(data_path) else None\n",
        "print(\"Transactions Shape:\", transactions.shape)\n",
        "print(\"Identity Shape:\", identity.shape if identity is not None else \"Not loaded\")"
      ],
      "metadata": {
        "colab": {
          "base_uri": "https://localhost:8080/"
        },
        "id": "tYZXKCelqSG-",
        "outputId": "5655ae96-930c-452f-a44f-cd9863ffe91d"
      },
      "execution_count": 3,
      "outputs": [
        {
          "output_type": "stream",
          "name": "stdout",
          "text": [
            "Transactions Shape: (590540, 394)\n",
            "Identity Shape: (144233, 41)\n"
          ]
        }
      ]
    },
    {
      "cell_type": "code",
      "source": [
        "# Drop columns with >50% missing values\n",
        "missing = transactions.isnull().mean()\n",
        "print(\"Columns with >50% missing:\", missing[missing > 0.5].index.tolist())\n",
        "transactions = transactions.loc[:, missing <= 0.5]\n",
        "\n",
        "# Define numerical and categorical columns\n",
        "numerical_cols = transactions.select_dtypes(include=['float64', 'int64']).columns\n",
        "categorical_cols = transactions.select_dtypes(include=['object']).columns\n",
        "print(\"Categorical Columns:\", categorical_cols.tolist())"
      ],
      "metadata": {
        "colab": {
          "base_uri": "https://localhost:8080/"
        },
        "id": "XIOFm5hj4WyA",
        "outputId": "9bfcb96f-825d-45f7-ebb3-1a9eb473779a"
      },
      "execution_count": 10,
      "outputs": [
        {
          "output_type": "stream",
          "name": "stdout",
          "text": [
            "Columns with >50% missing: []\n",
            "Categorical Columns: []\n"
          ]
        }
      ]
    },
    {
      "cell_type": "code",
      "source": [
        "# Impute categorical columns with mode, fallback to 'Unknown' if mode is unavailable\n",
        "for col in categorical_cols:\n",
        "    if transactions[col].notnull().any():  # Check if column has any non-missing values\n",
        "        mode_value = transactions[col].mode()\n",
        "        if not mode_value.empty:  # Check if mode exists\n",
        "            transactions[col] = transactions[col].fillna(mode_value[0])\n",
        "        else:\n",
        "            transactions[col] = transactions[col].fillna('Unknown')\n",
        "    else:\n",
        "        transactions[col] = transactions[col].fillna('Unknown')  # All values missing\n",
        "\n",
        "# Verify imputation\n",
        "print(\"Missing Values in Categorical Columns After Imputation:\")\n",
        "print(transactions[categorical_cols].isnull().sum())"
      ],
      "metadata": {
        "colab": {
          "base_uri": "https://localhost:8080/"
        },
        "id": "it1tP2G14o2_",
        "outputId": "32fdf871-bf33-4aa8-b817-1bc3809a69e6"
      },
      "execution_count": 11,
      "outputs": [
        {
          "output_type": "stream",
          "name": "stdout",
          "text": [
            "Missing Values in Categorical Columns After Imputation:\n",
            "Series([], dtype: float64)\n"
          ]
        }
      ]
    },
    {
      "cell_type": "code",
      "source": [
        "# Encode categorical columns\n",
        "from sklearn.preprocessing import LabelEncoder\n",
        "\n",
        "for col in categorical_cols:\n",
        "    transactions[col] = transactions[col].astype(str)  # Ensure string type for encoding\n",
        "    le = LabelEncoder()\n",
        "    transactions[col] = le.fit_transform(transactions[col])\n",
        "\n",
        "# Impute numerical columns with median\n",
        "transactions[numerical_cols] = transactions[numerical_cols].fillna(transactions[numerical_cols].median())\n",
        "\n",
        "# Normalize numerical features\n",
        "from sklearn.preprocessing import StandardScaler\n",
        "scaler = StandardScaler()\n",
        "transactions[numerical_cols] = scaler.fit_transform(transactions[numerical_cols])\n",
        "\n",
        "print(\"Preprocessed Transactions Shape:\", transactions.shape)\n",
        "print(\"Sample Data:\", transactions.head())"
      ],
      "metadata": {
        "colab": {
          "base_uri": "https://localhost:8080/"
        },
        "id": "RjXEQnEW4tZ5",
        "outputId": "f835710e-ce0f-4cdf-9b5e-c59469ee6827"
      },
      "execution_count": 12,
      "outputs": [
        {
          "output_type": "stream",
          "name": "stdout",
          "text": [
            "Preprocessed Transactions Shape: (590540, 220)\n",
            "Sample Data:    TransactionID   isFraud  TransactionDT  TransactionAmt  ProductCD  \\\n",
            "0      -1.732048 -0.190417      -1.577987       -0.278167   0.547250   \n",
            "1      -1.732042 -0.190417      -1.577986       -0.443327   0.547250   \n",
            "2      -1.732036 -0.190417      -1.577972       -0.317889   0.547250   \n",
            "3      -1.732030 -0.190417      -1.577965       -0.355521   0.547250   \n",
            "4      -1.732024 -0.190417      -1.577964       -0.355521  -1.559603   \n",
            "\n",
            "      card1     card2     card3     card4     card5  ...      V312      V313  \\\n",
            "0  0.821695 -0.009783 -0.281425 -2.753251 -1.396380  ... -0.227583 -0.222385   \n",
            "1 -1.457558  0.264810 -0.281425 -1.048192 -2.368254  ... -0.227583 -0.222385   \n",
            "2 -1.068263  0.813997 -0.281425  0.656866 -0.813255  ... -0.227583 -0.222385   \n",
            "3  1.679858  1.305711 -0.281425 -1.048192 -2.003802  ...  0.556723 -0.222385   \n",
            "4 -1.102133  0.967258 -0.281425 -1.048192 -2.368254  ... -0.227583 -0.222385   \n",
            "\n",
            "       V314      V315      V316      V317      V318      V319      V320  \\\n",
            "0 -0.249222 -0.229148 -0.048377 -0.032815 -0.058049 -0.055287 -0.088855   \n",
            "1 -0.249222 -0.229148 -0.048377 -0.062211 -0.058049 -0.055287 -0.088855   \n",
            "2 -0.249222 -0.229148 -0.048377 -0.062211 -0.058049 -0.055287 -0.088855   \n",
            "3 -0.249222 -0.229148 -0.026351  0.290552  0.224769 -0.055287 -0.088855   \n",
            "4 -0.249222 -0.229148 -0.048377 -0.062211 -0.058049 -0.055287 -0.088855   \n",
            "\n",
            "       V321  \n",
            "0 -0.074142  \n",
            "1 -0.074142  \n",
            "2 -0.074142  \n",
            "3 -0.074142  \n",
            "4 -0.074142  \n",
            "\n",
            "[5 rows x 220 columns]\n"
          ]
        }
      ]
    },
    {
      "cell_type": "code",
      "source": [
        "print(\"Total Missing Values:\", transactions.isnull().sum().sum())\n",
        "print(\"Categorical Columns After Encoding:\", transactions[categorical_cols].head())"
      ],
      "metadata": {
        "colab": {
          "base_uri": "https://localhost:8080/"
        },
        "id": "ldAC5hpb4ylQ",
        "outputId": "59f65728-671d-47c2-eb72-74aeeeedb973"
      },
      "execution_count": 13,
      "outputs": [
        {
          "output_type": "stream",
          "name": "stdout",
          "text": [
            "Total Missing Values: 0\n",
            "Categorical Columns After Encoding: Empty DataFrame\n",
            "Columns: []\n",
            "Index: [0, 1, 2, 3, 4]\n"
          ]
        }
      ]
    },
    {
      "cell_type": "code",
      "source": [
        "transactions.to_csv(f'{data_path}/preprocessed_transactions_no_identity.csv', index=False)\n",
        "print(\"Saved to:\", f'{data_path}/preprocessed_transactions_no_identity.csv')"
      ],
      "metadata": {
        "colab": {
          "base_uri": "https://localhost:8080/"
        },
        "id": "oCKMUvED48dZ",
        "outputId": "04bd3c74-d4f1-4d9a-e3ec-e9e13a8650a5"
      },
      "execution_count": 15,
      "outputs": [
        {
          "output_type": "stream",
          "name": "stdout",
          "text": [
            "Saved to: /content/drive/My Drive/MSc Fraud Detection/data/ieee-fraud-detection/preprocessed_transactions_no_identity.csv\n"
          ]
        }
      ]
    },
    {
      "cell_type": "markdown",
      "source": [
        "## Transactions Preprocessing Update\n",
        "- **Issue**: IndexError in categorical imputation due to missing modes.\n",
        "- **Fix**: Used per-column mode imputation with 'Unknown' fallback.\n",
        "- **Result**: No missing values in categorical columns, ready for encoding and normalization.\n",
        "- **Output**: preprocessed_transactions_no_identity.csv"
      ],
      "metadata": {
        "id": "pZcNJRmC5CBW"
      }
    }
  ]
}